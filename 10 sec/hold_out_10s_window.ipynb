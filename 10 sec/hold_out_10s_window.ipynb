{
 "cells": [
  {
   "cell_type": "code",
   "execution_count": 1,
   "id": "d07edff4-9989-47a3-8881-dd817d264c01",
   "metadata": {},
   "outputs": [
    {
     "name": "stdout",
     "output_type": "stream",
     "text": [
      "✅ train_5s_window.csv   – 4222 lines\n",
      "✅ holdout_5s_window.csv – 746 lines\n"
     ]
    }
   ],
   "source": [
    "import pandas as pd\n",
    "from sklearn.model_selection import train_test_split\n",
    "from pathlib import Path\n",
    "\n",
    "RAW_CSV = Path('dreamer_features_10s_window.csv')\n",
    "\n",
    "df = pd.read_csv(RAW_CSV)\n",
    "df['valence_label'] = (df['valence'] >= df['valence'].mean()).astype(int)\n",
    "df['arousal_label'] = (df['arousal'] >= df['arousal'].mean()).astype(int)\n",
    "\n",
    "train_df, hold_df = train_test_split(\n",
    "    df,\n",
    "    test_size=0.15,\n",
    "    random_state=42,\n",
    "    shuffle=True,\n",
    "    stratify=df['valence_label']\n",
    ")\n",
    "\n",
    "train_df.to_csv('train_10s_window.csv',   index=False)\n",
    "hold_df.to_csv('holdout_10s_window.csv', index=False)\n",
    "\n",
    "print(f\"✅ train_10s_window.csv   – {len(train_df)} lines\")\n",
    "print(f\"✅ holdout_10s_window.csv – {len(hold_df)} lines\")\n"
   ]
  }
 ],
 "metadata": {
  "kernelspec": {
   "display_name": "Python 3 (ipykernel)",
   "language": "python",
   "name": "python3"
  },
  "language_info": {
   "codemirror_mode": {
    "name": "ipython",
    "version": 3
   },
   "file_extension": ".py",
   "mimetype": "text/x-python",
   "name": "python",
   "nbconvert_exporter": "python",
   "pygments_lexer": "ipython3",
   "version": "3.12.9"
  }
 },
 "nbformat": 4,
 "nbformat_minor": 5
}
